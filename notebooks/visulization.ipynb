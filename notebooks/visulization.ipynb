{
 "cells": [
  {
   "cell_type": "code",
   "execution_count": 1,
   "metadata": {},
   "outputs": [],
   "source": [
    "import sys"
   ]
  },
  {
   "cell_type": "code",
   "execution_count": 2,
   "metadata": {},
   "outputs": [],
   "source": [
    "sys.path.append(\"..\")"
   ]
  },
  {
   "cell_type": "code",
   "execution_count": 90,
   "metadata": {},
   "outputs": [],
   "source": [
    "import torch\n",
    "import torch_geometric as tg\n",
    "\n",
    "import networkx as nx\n",
    "import numpy as np\n",
    "\n",
    "from torch_geometric.data import Data, Batch\n",
    "from src.model.springmodel import SpringModel\n",
    "from src.data_generater.spring import SpringSim\n",
    "\n",
    "import matplotlib.pyplot as plt"
   ]
  },
  {
   "cell_type": "markdown",
   "metadata": {},
   "source": [
    "# 1. One-step Prediction "
   ]
  },
  {
   "cell_type": "code",
   "execution_count": 91,
   "metadata": {},
   "outputs": [],
   "source": [
    "def batch(batch_size, n_balls=10):\n",
    "    model = SpringSim(n_balls=n_balls)\n",
    "    pos, vel, adj = model.sample_trajectory((1+batch_size)*100)\n",
    "\n",
    "    G = nx.from_numpy_array(adj)\n",
    "    edge_index = torch.LongTensor(np.array(G.edges()).T)\n",
    "    edge_index = tg.utils.to_undirected(edge_index)\n",
    "    \n",
    "    data_list = []\n",
    "    for b in range(batch_size):\n",
    "        pos_f = torch.Tensor(pos[b].T)\n",
    "        pos_n = torch.Tensor(pos[b+1].T)\n",
    "        vel_f = torch.Tensor(vel[b].T)\n",
    "        vel_n = torch.Tensor(vel[b+1].T)\n",
    "\n",
    "        data = Data(num_nodes=n_balls,\n",
    "                    edge_index=edge_index, \n",
    "                    pos_f=pos_f,\n",
    "                    pos_n=pos_n,\n",
    "                    vel_f=vel_f,\n",
    "                    vel_n=vel_n)\n",
    "        data_list.append(data)\n",
    "    batch = Batch.from_data_list(data_list)\n",
    "    return batch"
   ]
  },
  {
   "cell_type": "code",
   "execution_count": 92,
   "metadata": {},
   "outputs": [],
   "source": [
    "# args\n",
    "cuda_id = \"cuda:0\"\n",
    "batch_size = 64\n",
    "pos_in_dim = 2\n",
    "vel_in_dim = 2\n",
    "edge_in_dim = 4\n",
    "hid_dim = 64\n",
    "n_balls = 10"
   ]
  },
  {
   "cell_type": "code",
   "execution_count": 93,
   "metadata": {
    "scrolled": true
   },
   "outputs": [
    {
     "data": {
      "text/plain": [
       "SpringModel(\n",
       "  (pos_encoder): PositionEncoder(\n",
       "    (encoder): Sequential(\n",
       "      (0): Linear(in_features=2, out_features=64, bias=True)\n",
       "      (1): Tanh()\n",
       "      (2): Linear(in_features=64, out_features=64, bias=True)\n",
       "      (3): Tanh()\n",
       "      (4): Linear(in_features=64, out_features=64, bias=True)\n",
       "    )\n",
       "  )\n",
       "  (edge_encoder): EdgeEncoder(\n",
       "    (encoder): Sequential(\n",
       "      (0): Linear(in_features=4, out_features=64, bias=True)\n",
       "      (1): Tanh()\n",
       "      (2): Linear(in_features=64, out_features=64, bias=True)\n",
       "      (3): Tanh()\n",
       "      (4): Linear(in_features=64, out_features=64, bias=True)\n",
       "    )\n",
       "  )\n",
       "  (vel_encoder): VelocEncoder(\n",
       "    (encoder): Sequential(\n",
       "      (0): Linear(in_features=2, out_features=64, bias=True)\n",
       "      (1): Tanh()\n",
       "      (2): Linear(in_features=64, out_features=64, bias=True)\n",
       "      (3): Tanh()\n",
       "      (4): Linear(in_features=64, out_features=64, bias=True)\n",
       "    )\n",
       "  )\n",
       "  (process): Processer(\n",
       "    (encoder): Sequential(\n",
       "      (0): Linear(in_features=192, out_features=64, bias=True)\n",
       "      (1): Tanh()\n",
       "      (2): Linear(in_features=64, out_features=64, bias=True)\n",
       "      (3): Tanh()\n",
       "      (4): Linear(in_features=64, out_features=64, bias=True)\n",
       "    )\n",
       "  )\n",
       "  (pos_decoder): PositionDecoder(\n",
       "    (encoder): Sequential(\n",
       "      (0): Linear(in_features=64, out_features=64, bias=True)\n",
       "      (1): Tanh()\n",
       "      (2): Linear(in_features=64, out_features=64, bias=True)\n",
       "      (3): Tanh()\n",
       "      (4): Linear(in_features=64, out_features=2, bias=True)\n",
       "    )\n",
       "  )\n",
       "  (vel_decoder): VelocDecoder(\n",
       "    (encoder): Sequential(\n",
       "      (0): Linear(in_features=64, out_features=64, bias=True)\n",
       "      (1): Tanh()\n",
       "      (2): Linear(in_features=64, out_features=64, bias=True)\n",
       "      (3): Tanh()\n",
       "      (4): Linear(in_features=64, out_features=2, bias=True)\n",
       "    )\n",
       "  )\n",
       "  (loss_fn): MSELoss()\n",
       ")"
      ]
     },
     "execution_count": 93,
     "metadata": {},
     "output_type": "execute_result"
    }
   ],
   "source": [
    "device = torch.device(cuda_id)\n",
    "model = SpringModel(pos_in_dim, edge_in_dim, vel_in_dim, hid_dim)\n",
    "model = model.to(device)\n",
    "model.load_state_dict(torch.load(\"../checkpoints/spring_base_model.pt\"))\n",
    "model.eval()"
   ]
  },
  {
   "cell_type": "code",
   "execution_count": 136,
   "metadata": {},
   "outputs": [],
   "source": [
    "batch_size = 100"
   ]
  },
  {
   "cell_type": "code",
   "execution_count": 137,
   "metadata": {},
   "outputs": [
    {
     "name": "stderr",
     "output_type": "stream",
     "text": [
      "/home/philip/anaconda3/envs/control/lib/python3.6/site-packages/ipykernel_launcher.py:1: FutureWarning: arrays to stack must be passed as a \"sequence\" type such as list or tuple. Support for non-sequence iterables such as generators is deprecated as of NumPy 1.16 and will raise an error in the future.\n",
      "  \"\"\"Entry point for launching an IPython kernel.\n"
     ]
    }
   ],
   "source": [
    "val_batch = batch(batch_size, n_balls=n_balls).to(device)"
   ]
  },
  {
   "cell_type": "code",
   "execution_count": 138,
   "metadata": {},
   "outputs": [],
   "source": [
    "pos_pred, vel_pred = model(val_batch)"
   ]
  },
  {
   "cell_type": "code",
   "execution_count": 139,
   "metadata": {},
   "outputs": [],
   "source": [
    "pos_pred_traj = []\n",
    "for i in range(batch_size):\n",
    "    pos = pos_pred[i*n_balls:(i+1)*n_balls].detach().cpu().numpy()\n",
    "    pos_pred_traj.append(pos)\n",
    "pos_pred_traj = np.array(pos_pred_traj)"
   ]
  },
  {
   "cell_type": "code",
   "execution_count": 140,
   "metadata": {},
   "outputs": [],
   "source": [
    "pos_true_traj = []\n",
    "for i in range(batch_size):\n",
    "    pos =val_batch.pos_n[i*n_balls:(i+1)*n_balls].detach().cpu().numpy()\n",
    "    pos_true_traj.append(pos)\n",
    "pos_true_traj = np.array(pos_true_traj)"
   ]
  },
  {
   "cell_type": "code",
   "execution_count": 141,
   "metadata": {
    "scrolled": true
   },
   "outputs": [
    {
     "data": {
      "image/png": "[encoded data removed]",
      "text/plain": [
       "<Figure size 432x288 with 1 Axes>"
      ]
     },
     "metadata": {
      "needs_background": "light"
     },
     "output_type": "display_data"
    }
   ],
   "source": [
    "fig, ax = plt.subplots()\n",
    "for i in  [2,5,8,9]:\n",
    "    ax.scatter(pos_true_traj[:, i, 0], pos_true_traj[:, i, 1], s=10, c=\"b\")\n",
    "    ax.scatter(pos_pred_traj[:, i, 0], pos_pred_traj[:, i, 1], s=3, c=\"r\")\n",
    "ax.set_title(\"One-step prediction\")\n",
    "fig.savefig(\"../figs/one_step_predict.pdf\")"
   ]
  },
  {
   "cell_type": "markdown",
   "metadata": {},
   "source": [
    "# 2. Multi-Step prediction "
   ]
  },
  {
   "cell_type": "code",
   "execution_count": 152,
   "metadata": {},
   "outputs": [],
   "source": [
    "model.eval()\n",
    "multi_step_pred = []\n",
    "\n",
    "pos_pred  = None\n",
    "vel_pred = None\n",
    "\n",
    "for data in val_batch.to_data_list()[1:]:\n",
    "    if pos_pred is not None:\n",
    "        data.pos_f = pos_pred\n",
    "        data.vel_f = vel_pred\n",
    "    pos_pred, vel_pred = model(data)\n",
    "    multi_step_pred.append(pos_pred.detach().cpu().numpy())"
   ]
  },
  {
   "cell_type": "code",
   "execution_count": 153,
   "metadata": {},
   "outputs": [],
   "source": [
    "multi_step_pred = np.array(multi_step_pred)"
   ]
  },
  {
   "cell_type": "code",
   "execution_count": 157,
   "metadata": {},
   "outputs": [
    {
     "data": {
      "image/png": "[encoded data removed]",
      "text/plain": [
       "<Figure size 432x288 with 1 Axes>"
      ]
     },
     "metadata": {
      "needs_background": "light"
     },
     "output_type": "display_data"
    }
   ],
   "source": [
    "fig, ax = plt.subplots()\n",
    "for i in [2,5,8,9]:\n",
    "    ax.scatter(pos_true_traj[:, i, 0], pos_true_traj[:, i, 1], s=5, c=\"b\")\n",
    "    ax.scatter(multi_step_pred[:, i, 0], multi_step_pred[:, i, 1], s=1, c=\"r\")\n",
    "ax.set_title(\"Multi-step prediction\")\n",
    "fig.savefig(\"../figs/multi_step_predict.pdf\")"
   ]
  },
  {
   "cell_type": "code",
   "execution_count": null,
   "metadata": {},
   "outputs": [],
   "source": []
  }
 ],
 "metadata": {
  "kernelspec": {
   "display_name": "Python 3",
   "language": "python",
   "name": "python3"
  },
  "language_info": {
   "codemirror_mode": {
    "name": "ipython",
    "version": 3
   },
   "file_extension": ".py",
   "mimetype": "text/x-python",
   "name": "python",
   "nbconvert_exporter": "python",
   "pygments_lexer": "ipython3",
   "version": "3.6.12"
  }
 },
 "nbformat": 4,
 "nbformat_minor": 4
}
